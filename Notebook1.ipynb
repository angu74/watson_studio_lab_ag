{
 "cells": [
  {
   "cell_type": "code",
   "execution_count": 1,
   "id": "26d7dafa-e3f8-4f4c-b6a9-5d73d013061a",
   "metadata": {
    "id": "47c7b856-809d-412f-96f5-44cf1e264aef",
    "tags": []
   },
   "outputs": [
    {
     "name": "stdout",
     "output_type": "stream",
     "text": [
      "Hellow world, this is my notebook 1.\n"
     ]
    }
   ],
   "source": [
    "print (\"Hello world, this is my notebook 1.\")"
   ]
  },
  {
   "cell_type": "code",
   "execution_count": 1,
   "id": "ab1c8f9b-d97f-4ec7-82c8-0045a132ea1c",
   "metadata": {
    "id": "ab1c8f9b-d97f-4ec7-82c8-0045a132ea1c",
    "tags": []
   },
   "outputs": [
    {
     "name": "stdout",
     "output_type": "stream",
     "text": [
      "it has been introduced a changed by an alternate user.\n"
     ]
    }
   ],
   "source": [
    "print (\"it has been introduced a changed by an alternate user.\")"
   ]
  },
  {
   "cell_type": "code",
   "execution_count": null,
   "id": "4b6b8c6e-77c2-4cc0-9e25-8d4009a4849a",
   "metadata": {
    "id": "4b6b8c6e-77c2-4cc0-9e25-8d4009a4849a"
   },
   "outputs": [],
   "source": []
  }
 ],
 "metadata": {
  "kernelspec": {
   "display_name": "Python 3.9",
   "language": "python",
   "name": "python3"
  },
  "language_info": {
   "codemirror_mode": {
    "name": "ipython",
    "version": 3
   },
   "file_extension": ".py",
   "mimetype": "text/x-python",
   "name": "python",
   "nbconvert_exporter": "python",
   "pygments_lexer": "ipython3",
   "version": "3.9.7"
  }
 },
 "nbformat": 4,
 "nbformat_minor": 5
}
