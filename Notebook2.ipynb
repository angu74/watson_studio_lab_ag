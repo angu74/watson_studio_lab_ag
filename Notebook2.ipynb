{
 "cells": [
  {
   "cell_type": "code",
   "execution_count": 2,
   "id": "26d7dafa-e3f8-4f4c-b6a9-5d73d013061a",
   "metadata": {
    "id": "47c7b856-809d-412f-96f5-44cf1e264aef",
    "tags": []
   },
   "outputs": [
    {
     "name": "stdout",
     "output_type": "stream",
     "text": [
      "Hello world, this is my notebook 2.\n"
     ]
    }
   ],
   "source": [
    "print (\"Hello world, this is my notebook 2.\")"
   ]
  },
  {
   "cell_type": "code",
   "execution_count": 1,
   "id": "ab1c8f9b-d97f-4ec7-82c8-0045a132ea1c",
   "metadata": {
    "id": "ab1c8f9b-d97f-4ec7-82c8-0045a132ea1c",
    "tags": []
   },
   "outputs": [
    {
     "name": "stdout",
     "output_type": "stream",
     "text": [
      "once again, it has been introduced a changed by an alternate user.\n"
     ]
    }
   ],
   "source": [
    "print (\"once again, it has been introduced a changed by an alternate user.\")"
   ]
  },
  {
   "cell_type": "code",
   "execution_count": null,
   "id": "7ce02ca5-188c-4db7-91ee-8b245699ce64",
   "metadata": {
    "id": "7ce02ca5-188c-4db7-91ee-8b245699ce64"
   },
   "outputs": [],
   "source": []
  }
 ],
 "metadata": {
  "kernelspec": {
   "display_name": "Python 3.9",
   "language": "python",
   "name": "python3"
  },
  "language_info": {
   "codemirror_mode": {
    "name": "ipython",
    "version": 3
   },
   "file_extension": ".py",
   "mimetype": "text/x-python",
   "name": "python",
   "nbconvert_exporter": "python",
   "pygments_lexer": "ipython3",
   "version": "3.9.7"
  }
 },
 "nbformat": 4,
 "nbformat_minor": 5
}
